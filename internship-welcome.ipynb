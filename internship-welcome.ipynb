{
 "metadata": {
  "language_info": {
   "codemirror_mode": {
    "name": "ipython",
    "version": 3
   },
   "file_extension": ".py",
   "mimetype": "text/x-python",
   "name": "python",
   "nbconvert_exporter": "python",
   "pygments_lexer": "ipython3",
   "version": "3.8.11-final"
  },
  "orig_nbformat": 2,
  "kernelspec": {
   "name": "python381164bit3811d137d82901da4f41a4cd8e923018e400",
   "display_name": "Python 3.8.11 64-bit ('3.8.11')"
  }
 },
 "nbformat": 4,
 "nbformat_minor": 2,
 "cells": [
  {
   "source": [
    "# Welcome to your Internship at DataBooth\n",
    "\n",
    "We'd like to get you into solving problems with data and coding as soon as possible. So Let's go..."
   ],
   "cell_type": "markdown",
   "metadata": {}
  },
  {
   "cell_type": "code",
   "execution_count": 8,
   "metadata": {},
   "outputs": [
    {
     "output_type": "stream",
     "name": "stdout",
     "text": [
      "Hello World\n"
     ]
    }
   ],
   "source": [
    "print(\"Hello World\")"
   ]
  },
  {
   "source": [
    "If you're notfamiliar with it, \"Hello World\" is sort of the minimum viable program. See \"Minimum Viable Product\" for the thinking on this. Now that's out of the way - let's move on."
   ],
   "cell_type": "markdown",
   "metadata": {}
  },
  {
   "cell_type": "code",
   "execution_count": 9,
   "metadata": {},
   "outputs": [
    {
     "output_type": "error",
     "ename": "ModuleNotFoundError",
     "evalue": "No module named 'rich'",
     "traceback": [
      "\u001b[0;31m---------------------------------------------------------------------------\u001b[0m",
      "\u001b[0;31mModuleNotFoundError\u001b[0m                       Traceback (most recent call last)",
      "\u001b[0;32m/tmp/ipykernel_2489/1983896567.py\u001b[0m in \u001b[0;36m<module>\u001b[0;34m\u001b[0m\n\u001b[1;32m      1\u001b[0m \u001b[0;31m# rich is a text library for Python\u001b[0m\u001b[0;34m\u001b[0m\u001b[0;34m\u001b[0m\u001b[0;34m\u001b[0m\u001b[0m\n\u001b[0;32m----> 2\u001b[0;31m \u001b[0;32mimport\u001b[0m \u001b[0mrich\u001b[0m\u001b[0;34m\u001b[0m\u001b[0;34m\u001b[0m\u001b[0m\n\u001b[0m",
      "\u001b[0;31mModuleNotFoundError\u001b[0m: No module named 'rich'"
     ]
    }
   ],
   "source": [
    "# rich is a text library for Python\n",
    "import rich"
   ]
  },
  {
   "source": [
    "## Reproducibility, versioning etc\n",
    "\n",
    "We want everything that we do to be reproducible. Michael is a scientist by background (he did his Ph.D. in the area of mathematical theory of solutions) -- so we value reproducibilty.\n",
    "\n",
    "Versioning matters - it shows change through time. There are various approaches to this problem - nowadays Git is pretty standard tooling and we use GitHub.com as our \"versioning backend\"."
   ],
   "cell_type": "markdown",
   "metadata": {}
  },
  {
   "source": [
    "## Package management\n",
    "\n",
    "Mondern software is all about package management."
   ],
   "cell_type": "markdown",
   "metadata": {}
  },
  {
   "source": [
    "## It's a Broken (Computing) World\n",
    "\n",
    "When stuff works it's a bonus -- and it does a lot of the time. When it doesn't it can lead to frustration (and tears). "
   ],
   "cell_type": "markdown",
   "metadata": {}
  },
  {
   "cell_type": "code",
   "execution_count": null,
   "metadata": {},
   "outputs": [],
   "source": []
  }
 ]
}