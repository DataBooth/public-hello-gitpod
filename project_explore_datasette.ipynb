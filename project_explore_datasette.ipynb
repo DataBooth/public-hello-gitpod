{
    "cells": [
        {
            "cell_type": "code",
            "execution_count": 3,
            "source": [
                "from databooth.utils import display_markdown_file, in_notebook, get_project_root"
            ],
            "outputs": [],
            "metadata": {}
        },
        {
            "cell_type": "code",
            "execution_count": 5,
            "source": [
                "display_markdown_file(\"project_explore_datasette.md\")"
            ],
            "outputs": [
                {
                    "output_type": "display_data",
                    "data": {
                        "text/plain": "<IPython.core.display.Markdown object>",
                        "text/markdown": "# Possible Project: Datasette.io\n\nDatasette is an (open source) tool for exploring and publishing data. It helps people take data of any shape or size, analyse and explore it, and easily publish it as an interactive website and accompanying API.\n\n[https://datasette.io](https://datasette.io)\n\n[https://github.com/simonw/datasette](https://github.com/simonw/datasette)\n\n## Quality assurance - snyk Advisor package info\n\n[https://snyk.io/advisor/python/datasette](https://snyk.io/advisor/python/datasette)\n\n## Project Description\n\nAdd Datasette authentication (e.g. magic & built-in) & custom templates — example - church congregation \n\nDatasette plug-in / Streamlit datasette component \n\n## More details\n\nTODO\n"
                    },
                    "metadata": {}
                }
            ],
            "metadata": {}
        },
        {
            "cell_type": "code",
            "execution_count": 8,
            "source": [
                "in_notebook()"
            ],
            "outputs": [
                {
                    "output_type": "execute_result",
                    "data": {
                        "text/plain": [
                            "True"
                        ]
                    },
                    "metadata": {},
                    "execution_count": 8
                }
            ],
            "metadata": {}
        },
        {
            "cell_type": "code",
            "execution_count": 11,
            "metadata": {},
            "outputs": [
                {
                    "output_type": "stream",
                    "name": "stdout",
                    "text": [
                        ".\n"
                    ]
                }
            ],
            "source": [
                "from pathlib import Path\n",
                "if in_notebook() == True:\n",
                "    print(Path()"
            ]
        },
        {
            "cell_type": "code",
            "execution_count": 4,
            "metadata": {},
            "outputs": [],
            "source": [
                "# TODO: For display_markdown_file() -- if no arg then try using notebook name"
            ]
        },
        {
            "cell_type": "code",
            "execution_count": 16,
            "metadata": {},
            "outputs": [
                {
                    "output_type": "stream",
                    "name": "stdout",
                    "text": [
                        "Collecting ipyparams\n",
                        "  Downloading ipyparams-0.2.1.tar.gz (2.7 kB)\n",
                        "Building wheels for collected packages: ipyparams\n",
                        "  Building wheel for ipyparams (setup.py) ... \u001b[?25ldone\n",
                        "\u001b[?25h  Created wheel for ipyparams: filename=ipyparams-0.2.1-py3-none-any.whl size=2764 sha256=90469ee3683d8276eacf42245edff7d491b907f8189ac9dbb8b1d376535fce46\n",
                        "  Stored in directory: /home/gitpod/.cache/pip/wheels/8a/c5/20/53fc8aa1f062f3433f7156c061f41672a7b914a39d19d3f62f\n",
                        "Successfully built ipyparams\n",
                        "Installing collected packages: ipyparams\n",
                        "Successfully installed ipyparams-0.2.1\n",
                        "\u001b[33mWARNING: You are using pip version 21.2.3; however, version 21.2.4 is available.\n",
                        "You should consider upgrading via the '/home/gitpod/.pyenv/versions/3.8.11/bin/python3 -m pip install --upgrade pip' command.\u001b[0m\n"
                    ]
                }
            ],
            "source": [
                "!pip install ipyparams"
            ]
        },
        {
            "cell_type": "code",
            "execution_count": null,
            "metadata": {},
            "outputs": [],
            "source": []
        }
    ],
    "metadata": {
        "orig_nbformat": 4,
        "language_info": {
            "name": "python",
            "version": "3.8.10-final",
            "mimetype": "text/x-python",
            "codemirror_mode": {
                "name": "ipython",
                "version": 3
            },
            "pygments_lexer": "ipython3",
            "nbconvert_exporter": "python",
            "file_extension": ".py"
        },
        "kernelspec": {
            "name": "dbooth",
            "display_name": "dbooth"
        },
        "interpreter": {
            "hash": "c4a721a1d568ce04cb54de40c378589dc35995f2512558f171aaf28aca8be4f5"
        }
    },
    "nbformat": 4,
    "nbformat_minor": 2
}