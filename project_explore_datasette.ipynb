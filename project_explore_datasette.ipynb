{
    "cells": [
        {
            "cell_type": "code",
            "execution_count": 2,
            "source": [
                "from IPython.display import Markdown, display\n",
                "from pathlib import Path"
            ],
            "outputs": [],
            "metadata": {}
        },
        {
            "cell_type": "code",
            "execution_count": 24,
            "source": [
                "# TODO: Move this to a databooth internal library (import)\n",
                "\n",
                "def load_display_markdown(dotmd_file):\n",
                "    dotmd_file_ext = Path(dotmd_file).suffix\n",
                "    if dotmd_file_ext == \".md\":\n",
                "        if Path(dotmd_file).exists() == True:\n",
                "            display(Markdown(Path(dotmd_file)))\n",
                "        else:\n",
                "            print('File not found: ' + dotmd_file)\n",
                "    else:\n",
                "        print('Invalid file extension: ' + dotmd_file_ext + ' - should be .md')"
            ],
            "outputs": [],
            "metadata": {}
        },
        {
            "cell_type": "code",
            "execution_count": 26,
            "source": [
                "load_display_markdown(\"project_explore_datasette.md\")"
            ],
            "outputs": [
                {
                    "output_type": "display_data",
                    "data": {
                        "text/plain": [
                            "<IPython.core.display.Markdown object>"
                        ],
                        "text/markdown": [
                            "# Possible Project: Datasette.io\n",
                            "\n",
                            "Datasette is an (open source) tool for exploring and publishing data. It helps people take data of any shape or size, analyse and explore it, and easily publish it as an interactive website and accompanying API.\n",
                            "\n",
                            "[https://datasette.io](https://datasette.io)\n",
                            "\n",
                            "[https://github.com/simonw/datasette](https://github.com/simonw/datasette)\n",
                            "\n",
                            "## Quality assurance - snyk Advisor package info\n",
                            "\n",
                            "[https://snyk.io/advisor/python/datasette](https://snyk.io/advisor/python/datasette)\n",
                            "\n",
                            "## Project Description\n",
                            "\n",
                            "Add Datasette authentication (e.g. magic & built-in) & custom templates — example - church congregation \n",
                            "\n",
                            "Datasette plug-in / Streamlit datasette component \n",
                            "\n",
                            "## More details\n",
                            "\n",
                            "TODO\n"
                        ]
                    },
                    "metadata": {}
                }
            ],
            "metadata": {}
        },
        {
            "cell_type": "code",
            "execution_count": null,
            "source": [],
            "outputs": [],
            "metadata": {}
        }
    ],
    "metadata": {
        "orig_nbformat": 4,
        "language_info": {
            "name": "python",
            "version": "3.8.10",
            "mimetype": "text/x-python",
            "codemirror_mode": {
                "name": "ipython",
                "version": 3
            },
            "pygments_lexer": "ipython3",
            "nbconvert_exporter": "python",
            "file_extension": ".py"
        },
        "kernelspec": {
            "name": "python3",
            "display_name": "Python 3.8.10 64-bit ('py38_jupyter': conda)"
        },
        "interpreter": {
            "hash": "c4a721a1d568ce04cb54de40c378589dc35995f2512558f171aaf28aca8be4f5"
        }
    },
    "nbformat": 4,
    "nbformat_minor": 2
}