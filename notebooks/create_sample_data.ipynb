{
 "metadata": {
  "language_info": {
   "codemirror_mode": {
    "name": "ipython",
    "version": 3
   },
   "file_extension": ".py",
   "mimetype": "text/x-python",
   "name": "python",
   "nbconvert_exporter": "python",
   "pygments_lexer": "ipython3",
   "version": "3.8.10"
  },
  "orig_nbformat": 2,
  "kernelspec": {
   "name": "python3",
   "display_name": "Python 3.8.10 64-bit ('py38_jupyter': conda)"
  },
  "interpreter": {
   "hash": "c4a721a1d568ce04cb54de40c378589dc35995f2512558f171aaf28aca8be4f5"
  }
 },
 "nbformat": 4,
 "nbformat_minor": 2,
 "cells": [
  {
   "cell_type": "code",
   "execution_count": 18,
   "source": [
    "import pandera as pa\n",
    "import numpy as np\n",
    "\n",
    "from pandera import Column, DataFrameSchema, Check, Index"
   ],
   "outputs": [],
   "metadata": {}
  },
  {
   "cell_type": "code",
   "execution_count": 86,
   "source": [
    "import pandas as pd \n",
    "\n",
    "def read_google_sheet(sheet_id, sheet_name):\n",
    "    sheet_url = f\"https://docs.google.com/spreadsheets/d/{sheet_id}/gviz/tq?tqx=out:csv&sheet={sheet_name}\"\n",
    "    #sheet_url = sheet_url.replace(\"/edit#gid=\", \"/export?format=csv&gid=\")\n",
    "    print(sheet_url)\n",
    "    try:\n",
    "        tmp = pd.read_csv(sheet_url)\n",
    "    except Exception as e:\n",
    "        print(e)\n",
    "    return \n",
    "\n",
    "# See: https://towardsdatascience.com/read-data-from-google-sheets-into-pandas-without-the-google-sheets-api-5c468536550"
   ],
   "outputs": [],
   "metadata": {}
  },
  {
   "cell_type": "code",
   "execution_count": 87,
   "source": [
    "# from databooth.pandas import read_google_sheet - TODO"
   ],
   "outputs": [],
   "metadata": {}
  },
  {
   "cell_type": "code",
   "execution_count": 69,
   "source": [
    "test_sheet_url = \"https://docs.google.com/spreadsheets/d/1XqOtPkiE_Q0dfGSoyxrH730RkwrTczcRbDeJJpqRByQ/edit#gid=0\""
   ],
   "outputs": [],
   "metadata": {}
  },
  {
   "cell_type": "code",
   "execution_count": 70,
   "source": [
    "data_df = read_google_sheet(test_sheet_url)"
   ],
   "outputs": [
    {
     "output_type": "error",
     "ename": "TypeError",
     "evalue": "read_google_sheet() missing 1 required positional argument: 'sheet_name'",
     "traceback": [
      "\u001b[0;31m---------------------------------------------------------------------------\u001b[0m",
      "\u001b[0;31mTypeError\u001b[0m                                 Traceback (most recent call last)",
      "\u001b[0;32m/var/folders/wc/zhl433ms1fx5rvtvcrkw6dgw0000gn/T/ipykernel_15039/3263577377.py\u001b[0m in \u001b[0;36m<module>\u001b[0;34m\u001b[0m\n\u001b[0;32m----> 1\u001b[0;31m \u001b[0mdata_df\u001b[0m \u001b[0;34m=\u001b[0m \u001b[0mread_google_sheet\u001b[0m\u001b[0;34m(\u001b[0m\u001b[0mtest_sheet_url\u001b[0m\u001b[0;34m)\u001b[0m\u001b[0;34m\u001b[0m\u001b[0;34m\u001b[0m\u001b[0m\n\u001b[0m",
      "\u001b[0;31mTypeError\u001b[0m: read_google_sheet() missing 1 required positional argument: 'sheet_name'"
     ]
    }
   ],
   "metadata": {}
  },
  {
   "cell_type": "code",
   "execution_count": 71,
   "source": [
    "data_df.head()"
   ],
   "outputs": [
    {
     "output_type": "execute_result",
     "data": {
      "text/plain": [
       "  Name  Attribute 1  Attribute 2  Attribute 3 label\n",
       "0  ABC           97         7.98            2     A\n",
       "1  DEF           34         5.36            3     B\n",
       "2  GHI           65         4.31            4     B\n",
       "3  JKL           57         3.47            7     A\n",
       "4  MNO           32         9.24            5     A"
      ],
      "text/html": [
       "<div>\n",
       "<style scoped>\n",
       "    .dataframe tbody tr th:only-of-type {\n",
       "        vertical-align: middle;\n",
       "    }\n",
       "\n",
       "    .dataframe tbody tr th {\n",
       "        vertical-align: top;\n",
       "    }\n",
       "\n",
       "    .dataframe thead th {\n",
       "        text-align: right;\n",
       "    }\n",
       "</style>\n",
       "<table border=\"1\" class=\"dataframe\">\n",
       "  <thead>\n",
       "    <tr style=\"text-align: right;\">\n",
       "      <th></th>\n",
       "      <th>Name</th>\n",
       "      <th>Attribute 1</th>\n",
       "      <th>Attribute 2</th>\n",
       "      <th>Attribute 3</th>\n",
       "      <th>label</th>\n",
       "    </tr>\n",
       "  </thead>\n",
       "  <tbody>\n",
       "    <tr>\n",
       "      <th>0</th>\n",
       "      <td>ABC</td>\n",
       "      <td>97</td>\n",
       "      <td>7.98</td>\n",
       "      <td>2</td>\n",
       "      <td>A</td>\n",
       "    </tr>\n",
       "    <tr>\n",
       "      <th>1</th>\n",
       "      <td>DEF</td>\n",
       "      <td>34</td>\n",
       "      <td>5.36</td>\n",
       "      <td>3</td>\n",
       "      <td>B</td>\n",
       "    </tr>\n",
       "    <tr>\n",
       "      <th>2</th>\n",
       "      <td>GHI</td>\n",
       "      <td>65</td>\n",
       "      <td>4.31</td>\n",
       "      <td>4</td>\n",
       "      <td>B</td>\n",
       "    </tr>\n",
       "    <tr>\n",
       "      <th>3</th>\n",
       "      <td>JKL</td>\n",
       "      <td>57</td>\n",
       "      <td>3.47</td>\n",
       "      <td>7</td>\n",
       "      <td>A</td>\n",
       "    </tr>\n",
       "    <tr>\n",
       "      <th>4</th>\n",
       "      <td>MNO</td>\n",
       "      <td>32</td>\n",
       "      <td>9.24</td>\n",
       "      <td>5</td>\n",
       "      <td>A</td>\n",
       "    </tr>\n",
       "  </tbody>\n",
       "</table>\n",
       "</div>"
      ]
     },
     "metadata": {},
     "execution_count": 71
    }
   ],
   "metadata": {}
  },
  {
   "cell_type": "code",
   "execution_count": 72,
   "source": [
    "schema = DataFrameSchema(\n",
    "    {\n",
    "        \"Name\": Column(str),\n",
    "        \"Attribute 1\": Column(np.int64, Check(lambda a1: a1 > 30)),\n",
    "        \"Attribute 2\": Column(np.float64, Check(lambda a2: a2 < 9.0)),\n",
    "        \"Attribute 3\": Column(np.int64, Check(lambda a3: a3 < 8)),\n",
    "        \"label\": Column(str, Check(lambda s: s in ['A','B'])\n",
    "        ),\n",
    "    },\n",
    "    index=Index(int),\n",
    "    strict=True,\n",
    "    coerce=True,\n",
    ")"
   ],
   "outputs": [],
   "metadata": {}
  },
  {
   "cell_type": "code",
   "execution_count": 73,
   "source": [
    "# schema.validate(data_df)  # - not working - long error"
   ],
   "outputs": [],
   "metadata": {}
  },
  {
   "cell_type": "code",
   "execution_count": 74,
   "source": [
    "schema_infer = pa.infer_schema(data_df)"
   ],
   "outputs": [],
   "metadata": {}
  },
  {
   "cell_type": "code",
   "execution_count": 75,
   "source": [
    "print(schema_infer)"
   ],
   "outputs": [
    {
     "output_type": "stream",
     "name": "stdout",
     "text": [
      "<Schema DataFrameSchema(\n",
      "    columns={\n",
      "        'Name': <Schema Column(name=Name, type=str)>\n",
      "        'Attribute 1': <Schema Column(name=Attribute 1, type=int64)>\n",
      "        'Attribute 2': <Schema Column(name=Attribute 2, type=float64)>\n",
      "        'Attribute 3': <Schema Column(name=Attribute 3, type=int64)>\n",
      "        'label': <Schema Column(name=label, type=str)>\n",
      "    },\n",
      "    checks=[],\n",
      "    coerce=True,\n",
      "    pandas_dtype=None,\n",
      "    index=<Schema Index(name=None, type=int64)>,\n",
      "    strict=False\n",
      "    name=None,\n",
      "    ordered=False\n",
      ")>\n"
     ]
    }
   ],
   "metadata": {}
  },
  {
   "cell_type": "code",
   "execution_count": 76,
   "source": [
    "schema_infer.validate(data_df)"
   ],
   "outputs": [
    {
     "output_type": "stream",
     "name": "stderr",
     "text": [
      "/opt/homebrew/Caskroom/mambaforge/base/envs/py38_jupyter/lib/python3.8/site-packages/pandera/schemas.py:442: UserWarning: This <class 'pandera.schemas.DataFrameSchema'> is an inferred schema that hasn't been modified. It's recommended that you refine the schema by calling `add_columns`, `remove_columns`, or `update_columns` before using it to validate data.\n",
      "  warnings.warn(\n"
     ]
    },
    {
     "output_type": "execute_result",
     "data": {
      "text/plain": [
       "  Name  Attribute 1  Attribute 2  Attribute 3 label\n",
       "0  ABC           97         7.98            2     A\n",
       "1  DEF           34         5.36            3     B\n",
       "2  GHI           65         4.31            4     B\n",
       "3  JKL           57         3.47            7     A\n",
       "4  MNO           32         9.24            5     A\n",
       "5  PQR           75         1.28            4     A\n",
       "6  STU           22         6.29            5     B\n",
       "7  VWX           35         4.23            6     B"
      ],
      "text/html": [
       "<div>\n",
       "<style scoped>\n",
       "    .dataframe tbody tr th:only-of-type {\n",
       "        vertical-align: middle;\n",
       "    }\n",
       "\n",
       "    .dataframe tbody tr th {\n",
       "        vertical-align: top;\n",
       "    }\n",
       "\n",
       "    .dataframe thead th {\n",
       "        text-align: right;\n",
       "    }\n",
       "</style>\n",
       "<table border=\"1\" class=\"dataframe\">\n",
       "  <thead>\n",
       "    <tr style=\"text-align: right;\">\n",
       "      <th></th>\n",
       "      <th>Name</th>\n",
       "      <th>Attribute 1</th>\n",
       "      <th>Attribute 2</th>\n",
       "      <th>Attribute 3</th>\n",
       "      <th>label</th>\n",
       "    </tr>\n",
       "  </thead>\n",
       "  <tbody>\n",
       "    <tr>\n",
       "      <th>0</th>\n",
       "      <td>ABC</td>\n",
       "      <td>97</td>\n",
       "      <td>7.98</td>\n",
       "      <td>2</td>\n",
       "      <td>A</td>\n",
       "    </tr>\n",
       "    <tr>\n",
       "      <th>1</th>\n",
       "      <td>DEF</td>\n",
       "      <td>34</td>\n",
       "      <td>5.36</td>\n",
       "      <td>3</td>\n",
       "      <td>B</td>\n",
       "    </tr>\n",
       "    <tr>\n",
       "      <th>2</th>\n",
       "      <td>GHI</td>\n",
       "      <td>65</td>\n",
       "      <td>4.31</td>\n",
       "      <td>4</td>\n",
       "      <td>B</td>\n",
       "    </tr>\n",
       "    <tr>\n",
       "      <th>3</th>\n",
       "      <td>JKL</td>\n",
       "      <td>57</td>\n",
       "      <td>3.47</td>\n",
       "      <td>7</td>\n",
       "      <td>A</td>\n",
       "    </tr>\n",
       "    <tr>\n",
       "      <th>4</th>\n",
       "      <td>MNO</td>\n",
       "      <td>32</td>\n",
       "      <td>9.24</td>\n",
       "      <td>5</td>\n",
       "      <td>A</td>\n",
       "    </tr>\n",
       "    <tr>\n",
       "      <th>5</th>\n",
       "      <td>PQR</td>\n",
       "      <td>75</td>\n",
       "      <td>1.28</td>\n",
       "      <td>4</td>\n",
       "      <td>A</td>\n",
       "    </tr>\n",
       "    <tr>\n",
       "      <th>6</th>\n",
       "      <td>STU</td>\n",
       "      <td>22</td>\n",
       "      <td>6.29</td>\n",
       "      <td>5</td>\n",
       "      <td>B</td>\n",
       "    </tr>\n",
       "    <tr>\n",
       "      <th>7</th>\n",
       "      <td>VWX</td>\n",
       "      <td>35</td>\n",
       "      <td>4.23</td>\n",
       "      <td>6</td>\n",
       "      <td>B</td>\n",
       "    </tr>\n",
       "  </tbody>\n",
       "</table>\n",
       "</div>"
      ]
     },
     "metadata": {},
     "execution_count": 76
    }
   ],
   "metadata": {}
  },
  {
   "cell_type": "code",
   "execution_count": 77,
   "source": [
    "schema_infer.to_yaml('data_df-schema_inferred.yaml')"
   ],
   "outputs": [],
   "metadata": {}
  },
  {
   "cell_type": "code",
   "execution_count": 78,
   "source": [
    "schema_read_yml = pa.io.from_yaml('data_df-schema_inferred.yaml')"
   ],
   "outputs": [],
   "metadata": {}
  },
  {
   "cell_type": "code",
   "execution_count": 79,
   "source": [
    "print(schema_read_yml)"
   ],
   "outputs": [
    {
     "output_type": "stream",
     "name": "stdout",
     "text": [
      "<Schema DataFrameSchema(\n",
      "    columns={\n",
      "        'Name': <Schema Column(name=Name, type=str)>\n",
      "        'Attribute 1': <Schema Column(name=Attribute 1, type=int64)>\n",
      "        'Attribute 2': <Schema Column(name=Attribute 2, type=float64)>\n",
      "        'Attribute 3': <Schema Column(name=Attribute 3, type=int64)>\n",
      "        'label': <Schema Column(name=label, type=str)>\n",
      "    },\n",
      "    checks=[],\n",
      "    coerce=True,\n",
      "    pandas_dtype=None,\n",
      "    index=<Schema Index(name=None, type=int64)>,\n",
      "    strict=False\n",
      "    name=None,\n",
      "    ordered=False\n",
      ")>\n"
     ]
    }
   ],
   "metadata": {}
  },
  {
   "cell_type": "code",
   "execution_count": 80,
   "source": [
    "schema_read_yml.validate(data_df)"
   ],
   "outputs": [
    {
     "output_type": "execute_result",
     "data": {
      "text/plain": [
       "  Name  Attribute 1  Attribute 2  Attribute 3 label\n",
       "0  ABC           97         7.98            2     A\n",
       "1  DEF           34         5.36            3     B\n",
       "2  GHI           65         4.31            4     B\n",
       "3  JKL           57         3.47            7     A\n",
       "4  MNO           32         9.24            5     A\n",
       "5  PQR           75         1.28            4     A\n",
       "6  STU           22         6.29            5     B\n",
       "7  VWX           35         4.23            6     B"
      ],
      "text/html": [
       "<div>\n",
       "<style scoped>\n",
       "    .dataframe tbody tr th:only-of-type {\n",
       "        vertical-align: middle;\n",
       "    }\n",
       "\n",
       "    .dataframe tbody tr th {\n",
       "        vertical-align: top;\n",
       "    }\n",
       "\n",
       "    .dataframe thead th {\n",
       "        text-align: right;\n",
       "    }\n",
       "</style>\n",
       "<table border=\"1\" class=\"dataframe\">\n",
       "  <thead>\n",
       "    <tr style=\"text-align: right;\">\n",
       "      <th></th>\n",
       "      <th>Name</th>\n",
       "      <th>Attribute 1</th>\n",
       "      <th>Attribute 2</th>\n",
       "      <th>Attribute 3</th>\n",
       "      <th>label</th>\n",
       "    </tr>\n",
       "  </thead>\n",
       "  <tbody>\n",
       "    <tr>\n",
       "      <th>0</th>\n",
       "      <td>ABC</td>\n",
       "      <td>97</td>\n",
       "      <td>7.98</td>\n",
       "      <td>2</td>\n",
       "      <td>A</td>\n",
       "    </tr>\n",
       "    <tr>\n",
       "      <th>1</th>\n",
       "      <td>DEF</td>\n",
       "      <td>34</td>\n",
       "      <td>5.36</td>\n",
       "      <td>3</td>\n",
       "      <td>B</td>\n",
       "    </tr>\n",
       "    <tr>\n",
       "      <th>2</th>\n",
       "      <td>GHI</td>\n",
       "      <td>65</td>\n",
       "      <td>4.31</td>\n",
       "      <td>4</td>\n",
       "      <td>B</td>\n",
       "    </tr>\n",
       "    <tr>\n",
       "      <th>3</th>\n",
       "      <td>JKL</td>\n",
       "      <td>57</td>\n",
       "      <td>3.47</td>\n",
       "      <td>7</td>\n",
       "      <td>A</td>\n",
       "    </tr>\n",
       "    <tr>\n",
       "      <th>4</th>\n",
       "      <td>MNO</td>\n",
       "      <td>32</td>\n",
       "      <td>9.24</td>\n",
       "      <td>5</td>\n",
       "      <td>A</td>\n",
       "    </tr>\n",
       "    <tr>\n",
       "      <th>5</th>\n",
       "      <td>PQR</td>\n",
       "      <td>75</td>\n",
       "      <td>1.28</td>\n",
       "      <td>4</td>\n",
       "      <td>A</td>\n",
       "    </tr>\n",
       "    <tr>\n",
       "      <th>6</th>\n",
       "      <td>STU</td>\n",
       "      <td>22</td>\n",
       "      <td>6.29</td>\n",
       "      <td>5</td>\n",
       "      <td>B</td>\n",
       "    </tr>\n",
       "    <tr>\n",
       "      <th>7</th>\n",
       "      <td>VWX</td>\n",
       "      <td>35</td>\n",
       "      <td>4.23</td>\n",
       "      <td>6</td>\n",
       "      <td>B</td>\n",
       "    </tr>\n",
       "  </tbody>\n",
       "</table>\n",
       "</div>"
      ]
     },
     "metadata": {},
     "execution_count": 80
    }
   ],
   "metadata": {}
  },
  {
   "cell_type": "code",
   "execution_count": 81,
   "source": [
    "sheet_id = \"1XqOtPkiE_Q0dfGSoyxrH730RkwrTczcRbDeJJpqRByQ\"\n",
    "sheet_name = \"sample_1\""
   ],
   "outputs": [],
   "metadata": {}
  },
  {
   "cell_type": "code",
   "execution_count": 82,
   "source": [
    "tmp = read_google_sheet(sheet_id, sheet_name)"
   ],
   "outputs": [
    {
     "output_type": "stream",
     "name": "stdout",
     "text": [
      "https://docs.google.com/spreadsheets/d/1XqOtPkiE_Q0dfGSoyxrH730RkwrTczcRbDeJJpqRByQ/gviz/tq?tqx=out:csv&sheet=sample_1\n"
     ]
    }
   ],
   "metadata": {}
  },
  {
   "cell_type": "code",
   "execution_count": 83,
   "source": [
    "tmp"
   ],
   "outputs": [],
   "metadata": {}
  },
  {
   "cell_type": "code",
   "execution_count": 88,
   "source": [
    "schema_gsheet_id = \"1wyLAbVm7l5OKCbFQrnugoqqRsw0XP6PSkJwf1mB05cg\"\n",
    "schema_gsheet_name = \"NoHeaders\"\n"
   ],
   "outputs": [],
   "metadata": {}
  },
  {
   "cell_type": "code",
   "execution_count": 89,
   "source": [
    "schema_df = read_google_sheet(schema_gsheet_id, schema_gsheet_name)"
   ],
   "outputs": [
    {
     "output_type": "stream",
     "name": "stdout",
     "text": [
      "https://docs.google.com/spreadsheets/d/1wyLAbVm7l5OKCbFQrnugoqqRsw0XP6PSkJwf1mB05cg/gviz/tq?tqx=out:csv&sheet=NoHeaders\n",
      "Error tokenizing data. C error: Expected 1 fields in line 6, saw 2\n",
      "\n"
     ]
    }
   ],
   "metadata": {}
  },
  {
   "cell_type": "code",
   "execution_count": 47,
   "source": [
    "schema_gsheet_url = schema_gsheet_url.replace(\"/edit#gid=\", \"/export?format=csv&gid=\")"
   ],
   "outputs": [],
   "metadata": {}
  },
  {
   "cell_type": "code",
   "execution_count": 48,
   "source": [
    "schema_gsheet_url"
   ],
   "outputs": [
    {
     "output_type": "execute_result",
     "data": {
      "text/plain": [
       "'https://docs.google.com/spreadsheets/d/1wyLAbVm7l5OKCbFQrnugoqqRsw0XP6PSkJwf1mB05cg/export?format=csv&gid=108235142'"
      ]
     },
     "metadata": {},
     "execution_count": 48
    }
   ],
   "metadata": {}
  },
  {
   "cell_type": "code",
   "execution_count": 50,
   "source": [
    "# specify_datatable_schema_for_synthetic_data - NoHeaders.csv"
   ],
   "outputs": [],
   "metadata": {}
  },
  {
   "cell_type": "code",
   "execution_count": 90,
   "source": [
    "tmp2 = pd.read_csv('/Users/mjboothaus/Downloads/data.csv')"
   ],
   "outputs": [],
   "metadata": {}
  },
  {
   "cell_type": "code",
   "execution_count": 91,
   "source": [
    "tmp2"
   ],
   "outputs": [
    {
     "output_type": "execute_result",
     "data": {
      "text/plain": [
       "          First name         Last name               Post code  \\\n",
       "0               Text              Text  Text or 4 digit number   \n",
       "1  fake.first_name()  fake.last_name()         fake.postcode()   \n",
       "\n",
       "                 Address  \n",
       "0                   Text  \n",
       "1  fake.street_address()  "
      ],
      "text/html": [
       "<div>\n",
       "<style scoped>\n",
       "    .dataframe tbody tr th:only-of-type {\n",
       "        vertical-align: middle;\n",
       "    }\n",
       "\n",
       "    .dataframe tbody tr th {\n",
       "        vertical-align: top;\n",
       "    }\n",
       "\n",
       "    .dataframe thead th {\n",
       "        text-align: right;\n",
       "    }\n",
       "</style>\n",
       "<table border=\"1\" class=\"dataframe\">\n",
       "  <thead>\n",
       "    <tr style=\"text-align: right;\">\n",
       "      <th></th>\n",
       "      <th>First name</th>\n",
       "      <th>Last name</th>\n",
       "      <th>Post code</th>\n",
       "      <th>Address</th>\n",
       "    </tr>\n",
       "  </thead>\n",
       "  <tbody>\n",
       "    <tr>\n",
       "      <th>0</th>\n",
       "      <td>Text</td>\n",
       "      <td>Text</td>\n",
       "      <td>Text or 4 digit number</td>\n",
       "      <td>Text</td>\n",
       "    </tr>\n",
       "    <tr>\n",
       "      <th>1</th>\n",
       "      <td>fake.first_name()</td>\n",
       "      <td>fake.last_name()</td>\n",
       "      <td>fake.postcode()</td>\n",
       "      <td>fake.street_address()</td>\n",
       "    </tr>\n",
       "  </tbody>\n",
       "</table>\n",
       "</div>"
      ]
     },
     "metadata": {},
     "execution_count": 91
    }
   ],
   "metadata": {}
  },
  {
   "cell_type": "code",
   "execution_count": 94,
   "source": [
    "import Faker"
   ],
   "outputs": [
    {
     "output_type": "error",
     "ename": "ModuleNotFoundError",
     "evalue": "No module named 'Faker'",
     "traceback": [
      "\u001b[0;31m---------------------------------------------------------------------------\u001b[0m",
      "\u001b[0;31mModuleNotFoundError\u001b[0m                       Traceback (most recent call last)",
      "\u001b[0;32m/var/folders/wc/zhl433ms1fx5rvtvcrkw6dgw0000gn/T/ipykernel_15039/3415984741.py\u001b[0m in \u001b[0;36m<module>\u001b[0;34m\u001b[0m\n\u001b[0;32m----> 1\u001b[0;31m \u001b[0;32mimport\u001b[0m \u001b[0mFaker\u001b[0m\u001b[0;34m\u001b[0m\u001b[0;34m\u001b[0m\u001b[0m\n\u001b[0m",
      "\u001b[0;31mModuleNotFoundError\u001b[0m: No module named 'Faker'"
     ]
    }
   ],
   "metadata": {}
  },
  {
   "cell_type": "code",
   "execution_count": 93,
   "source": [
    "INITIAL_SEED = 42  # meaning of life :)\n",
    "Faker.seed(INITIAL_SEED)"
   ],
   "outputs": [
    {
     "output_type": "error",
     "ename": "NameError",
     "evalue": "name 'Faker' is not defined",
     "traceback": [
      "\u001b[0;31m---------------------------------------------------------------------------\u001b[0m",
      "\u001b[0;31mNameError\u001b[0m                                 Traceback (most recent call last)",
      "\u001b[0;32m/var/folders/wc/zhl433ms1fx5rvtvcrkw6dgw0000gn/T/ipykernel_15039/1035637158.py\u001b[0m in \u001b[0;36m<module>\u001b[0;34m\u001b[0m\n\u001b[1;32m      1\u001b[0m \u001b[0mINITIAL_SEED\u001b[0m \u001b[0;34m=\u001b[0m \u001b[0;36m42\u001b[0m  \u001b[0;31m# meaning of life :)\u001b[0m\u001b[0;34m\u001b[0m\u001b[0;34m\u001b[0m\u001b[0m\n\u001b[0;32m----> 2\u001b[0;31m \u001b[0mFaker\u001b[0m\u001b[0;34m.\u001b[0m\u001b[0mseed\u001b[0m\u001b[0;34m(\u001b[0m\u001b[0mINITIAL_SEED\u001b[0m\u001b[0;34m)\u001b[0m\u001b[0;34m\u001b[0m\u001b[0;34m\u001b[0m\u001b[0m\n\u001b[0m",
      "\u001b[0;31mNameError\u001b[0m: name 'Faker' is not defined"
     ]
    }
   ],
   "metadata": {}
  },
  {
   "cell_type": "code",
   "execution_count": null,
   "source": [],
   "outputs": [],
   "metadata": {}
  }
 ]
}