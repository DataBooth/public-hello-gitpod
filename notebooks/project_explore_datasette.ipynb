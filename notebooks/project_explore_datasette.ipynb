{
    "cells": [
        {
            "cell_type": "code",
            "execution_count": 1,
            "source": [
                "from pathlib import Path\n",
                "from databooth.utils import display_markdown_file, in_notebook, get_project_root"
            ],
            "outputs": [],
            "metadata": {}
        },
        {
            "cell_type": "code",
            "execution_count": 5,
            "source": [
                "display_markdown_file(\"../md/project_explore_datasette.md\")"
            ],
            "outputs": [
                {
                    "output_type": "display_data",
                    "data": {
                        "text/plain": "<IPython.core.display.Markdown object>",
                        "text/markdown": "# Possible Project: Datasette.io\n\nDatasette is an (open source) tool for exploring and publishing data. It helps people take data of any shape or size, analyse and explore it, and easily publish it as an interactive website and accompanying API.\n\n[https://datasette.io](https://datasette.io)\n\n[https://github.com/simonw/datasette](https://github.com/simonw/datasette)\n\n## Quality assurance - snyk Advisor package info\n\n[https://snyk.io/advisor/python/datasette](https://snyk.io/advisor/python/datasette)\n\n## Project Description\n\nAdd Datasette authentication (e.g. magic & built-in) & custom templates — example - church congregation \n\nDatasette plug-in / Streamlit datasette component \n\n## More details\n\nTODO\n"
                    },
                    "metadata": {}
                }
            ],
            "metadata": {}
        },
        {
            "cell_type": "code",
            "execution_count": 6,
            "source": [
                "in_notebook()"
            ],
            "outputs": [
                {
                    "output_type": "execute_result",
                    "data": {
                        "text/plain": [
                            "True"
                        ]
                    },
                    "metadata": {},
                    "execution_count": 6
                }
            ],
            "metadata": {}
        },
        {
            "cell_type": "code",
            "execution_count": 7,
            "source": [
                "# TODO: For display_markdown_file() -- if no arg then try using notebook name"
            ],
            "outputs": [],
            "metadata": {}
        },
        {
            "cell_type": "code",
            "execution_count": 8,
            "source": [
                "if in_notebook():\n",
                "    print(\"Hello\")"
            ],
            "outputs": [
                {
                    "output_type": "stream",
                    "name": "stdout",
                    "text": [
                        "Hello\n"
                    ]
                }
            ],
            "metadata": {}
        },
        {
            "cell_type": "code",
            "execution_count": 9,
            "source": [
                "[notebook for notebook in Path.cwd().glob(\"*.ipynb\")]"
            ],
            "outputs": [
                {
                    "output_type": "execute_result",
                    "data": {
                        "text/plain": [
                            "[PosixPath('/workspace/db-hello-gitpod/notebooks/hello-world-notebook.ipynb'),\n",
                            " PosixPath('/workspace/db-hello-gitpod/notebooks/internship-welcome.ipynb'),\n",
                            " PosixPath('/workspace/db-hello-gitpod/notebooks/project_explore_datasette.ipynb')]"
                        ]
                    },
                    "metadata": {},
                    "execution_count": 9
                }
            ],
            "metadata": {}
        },
        {
            "cell_type": "code",
            "execution_count": null,
            "source": [],
            "outputs": [],
            "metadata": {}
        }
    ],
    "metadata": {
        "orig_nbformat": 4,
        "language_info": {
            "name": "python",
            "version": "3.8.10-final",
            "mimetype": "text/x-python",
            "codemirror_mode": {
                "name": "ipython",
                "version": 3
            },
            "pygments_lexer": "ipython3",
            "nbconvert_exporter": "python",
            "file_extension": ".py"
        },
        "kernelspec": {
            "name": "dbooth",
            "display_name": "dbooth"
        },
        "interpreter": {
            "hash": "c4a721a1d568ce04cb54de40c378589dc35995f2512558f171aaf28aca8be4f5"
        }
    },
    "nbformat": 4,
    "nbformat_minor": 2
}