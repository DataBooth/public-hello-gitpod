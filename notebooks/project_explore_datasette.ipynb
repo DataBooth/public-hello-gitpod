{
    "cells": [
        {
            "cell_type": "code",
            "execution_count": 8,
            "source": [
                "import databooth.utils as dbu"
            ],
            "outputs": [],
            "metadata": {}
        },
        {
            "cell_type": "code",
            "execution_count": 9,
            "source": [
                "load_display_markdown(\"project_explore_datasette.md\")"
            ],
            "outputs": [
                {
                    "output_type": "display_data",
                    "data": {
                        "text/plain": "<IPython.core.display.Markdown object>",
                        "text/markdown": "# Possible Project: Datasette.io\n\nDatasette is an (open source) tool for exploring and publishing data. It helps people take data of any shape or size, analyse and explore it, and easily publish it as an interactive website and accompanying API.\n\n[https://datasette.io](https://datasette.io)\n\n[https://github.com/simonw/datasette](https://github.com/simonw/datasette)\n\n## Quality assurance - snyk Advisor package info\n\n[https://snyk.io/advisor/python/datasette](https://snyk.io/advisor/python/datasette)\n\n## Project Description\n\nAdd Datasette authentication (e.g. magic & built-in) & custom templates — example - church congregation \n\nDatasette plug-in / Streamlit datasette component \n\n## More details\n\nTODO\n"
                    },
                    "metadata": {}
                }
            ],
            "metadata": {}
        },
        {
            "cell_type": "code",
            "execution_count": 10,
            "source": [
                "in_notebook()"
            ],
            "outputs": [
                {
                    "output_type": "error",
                    "ename": "NameError",
                    "evalue": "name 'in_notebook' is not defined",
                    "traceback": [
                        "\u001b[0;31m---------------------------------------------------------------------------\u001b[0m",
                        "\u001b[0;31mNameError\u001b[0m                                 Traceback (most recent call last)",
                        "\u001b[0;32m/tmp/ipykernel_3528/2180562627.py\u001b[0m in \u001b[0;36m<module>\u001b[0;34m\u001b[0m\n\u001b[0;32m----> 1\u001b[0;31m \u001b[0min_notebook\u001b[0m\u001b[0;34m(\u001b[0m\u001b[0;34m)\u001b[0m\u001b[0;34m\u001b[0m\u001b[0;34m\u001b[0m\u001b[0m\n\u001b[0m",
                        "\u001b[0;31mNameError\u001b[0m: name 'in_notebook' is not defined"
                    ]
                }
            ],
            "metadata": {}
        },
        {
            "cell_type": "code",
            "execution_count": null,
            "metadata": {},
            "outputs": [],
            "source": []
        }
    ],
    "metadata": {
        "orig_nbformat": 4,
        "language_info": {
            "name": "python",
            "version": "3.8.10-final",
            "mimetype": "text/x-python",
            "codemirror_mode": {
                "name": "ipython",
                "version": 3
            },
            "pygments_lexer": "ipython3",
            "nbconvert_exporter": "python",
            "file_extension": ".py"
        },
        "kernelspec": {
            "name": "dbooth",
            "display_name": "dbooth"
        },
        "interpreter": {
            "hash": "c4a721a1d568ce04cb54de40c378589dc35995f2512558f171aaf28aca8be4f5"
        }
    },
    "nbformat": 4,
    "nbformat_minor": 2
}